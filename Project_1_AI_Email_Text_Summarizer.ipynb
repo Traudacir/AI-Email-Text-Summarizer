{
  "nbformat": 4,
  "nbformat_minor": 0,
  "metadata": {
    "colab": {
      "provenance": []
    },
    "kernelspec": {
      "name": "python3",
      "display_name": "Python 3"
    },
    "language_info": {
      "name": "python"
    }
  },
  "cells": [
    {
      "cell_type": "code",
      "source": [
        "# Import required libraries\n",
        "!pip install openai"
      ],
      "metadata": {
        "colab": {
          "base_uri": "https://localhost:8080/"
        },
        "id": "5XZEAx48CbKa",
        "outputId": "8cf8e6ec-af4d-4b13-a61b-ff3d396a6639"
      },
      "execution_count": 27,
      "outputs": [
        {
          "output_type": "stream",
          "name": "stdout",
          "text": [
            "Requirement already satisfied: openai in /usr/local/lib/python3.12/dist-packages (1.108.0)\n",
            "Requirement already satisfied: anyio<5,>=3.5.0 in /usr/local/lib/python3.12/dist-packages (from openai) (4.10.0)\n",
            "Requirement already satisfied: distro<2,>=1.7.0 in /usr/local/lib/python3.12/dist-packages (from openai) (1.9.0)\n",
            "Requirement already satisfied: httpx<1,>=0.23.0 in /usr/local/lib/python3.12/dist-packages (from openai) (0.28.1)\n",
            "Requirement already satisfied: jiter<1,>=0.4.0 in /usr/local/lib/python3.12/dist-packages (from openai) (0.11.0)\n",
            "Requirement already satisfied: pydantic<3,>=1.9.0 in /usr/local/lib/python3.12/dist-packages (from openai) (2.11.9)\n",
            "Requirement already satisfied: sniffio in /usr/local/lib/python3.12/dist-packages (from openai) (1.3.1)\n",
            "Requirement already satisfied: tqdm>4 in /usr/local/lib/python3.12/dist-packages (from openai) (4.67.1)\n",
            "Requirement already satisfied: typing-extensions<5,>=4.11 in /usr/local/lib/python3.12/dist-packages (from openai) (4.15.0)\n",
            "Requirement already satisfied: idna>=2.8 in /usr/local/lib/python3.12/dist-packages (from anyio<5,>=3.5.0->openai) (3.10)\n",
            "Requirement already satisfied: certifi in /usr/local/lib/python3.12/dist-packages (from httpx<1,>=0.23.0->openai) (2025.8.3)\n",
            "Requirement already satisfied: httpcore==1.* in /usr/local/lib/python3.12/dist-packages (from httpx<1,>=0.23.0->openai) (1.0.9)\n",
            "Requirement already satisfied: h11>=0.16 in /usr/local/lib/python3.12/dist-packages (from httpcore==1.*->httpx<1,>=0.23.0->openai) (0.16.0)\n",
            "Requirement already satisfied: annotated-types>=0.6.0 in /usr/local/lib/python3.12/dist-packages (from pydantic<3,>=1.9.0->openai) (0.7.0)\n",
            "Requirement already satisfied: pydantic-core==2.33.2 in /usr/local/lib/python3.12/dist-packages (from pydantic<3,>=1.9.0->openai) (2.33.2)\n",
            "Requirement already satisfied: typing-inspection>=0.4.0 in /usr/local/lib/python3.12/dist-packages (from pydantic<3,>=1.9.0->openai) (0.4.1)\n"
          ]
        }
      ]
    },
    {
      "cell_type": "code",
      "source": [
        "# Import required libraries\n",
        "from openai import OpenAI"
      ],
      "metadata": {
        "id": "qxLO3YXZCivR"
      },
      "execution_count": 28,
      "outputs": []
    },
    {
      "cell_type": "code",
      "source": [
        "#Instructions for using Email / Text Summarizer\n",
        "#In the cell below, copy and paste the line below after \"import os\" and replace \"YOUR_API_KEY_HERE\" with your actual API key for it to work.\n",
        "#os.environ[\"OPENAI_API_KEY\"] = \"YOUR_API_KEY_HERE\""
      ],
      "metadata": {
        "id": "B59OOsc_O2sI"
      },
      "execution_count": 29,
      "outputs": []
    },
    {
      "cell_type": "code",
      "source": [
        "# Import required libraries\n",
        "import os\n",
        "\n",
        "# Initialize OpenAI client using the API key from environment\n",
        "client = OpenAI(api_key=os.environ.get(\"OPENAI_API_KEY\"))\n"
      ],
      "metadata": {
        "id": "sMl5Ny6OFnyk"
      },
      "execution_count": 30,
      "outputs": []
    },
    {
      "cell_type": "code",
      "source": [
        "# Function to summarize text into bullet points\n",
        "def summarize_text(text):\n",
        "    response = client.chat.completions.create(\n",
        "        model=\"gpt-4o-mini\",\n",
        "        messages=[\n",
        "            {\"role\": \"system\", \"content\": \"You are an assistant that summarizes text into bullet points.\"},\n",
        "            {\"role\": \"user\", \"content\": text}\n",
        "        ],\n",
        "        max_tokens=150 # Limits the output length\n",
        "    )\n",
        "    return response.choices[0].message.content # Return the summary\n"
      ],
      "metadata": {
        "id": "lBh_nSwcGjdN"
      },
      "execution_count": 31,
      "outputs": []
    },
    {
      "cell_type": "code",
      "source": [
        "email_text = \"\"\"\n",
        "Hi team, just a reminder that the client presentation is scheduled for next Wednesday at 10 AM.\n",
        "Please make sure all slides are updated by Friday.\n",
        "We’ll have a rehearsal Monday morning to finalize everything.\n",
        "Thanks!\n",
        "\"\"\"\n",
        "\n",
        "print(summarize_text(email_text))\n"
      ],
      "metadata": {
        "colab": {
          "base_uri": "https://localhost:8080/"
        },
        "id": "-7G-ANM1Gp5b",
        "outputId": "7de63749-7f2c-4555-c433-b960af6ec874"
      },
      "execution_count": null,
      "outputs": [
        {
          "output_type": "stream",
          "name": "stdout",
          "text": [
            "- Client presentation is scheduled for next Wednesday at 10 AM.\n",
            "- All slides need to be updated by Friday.\n",
            "- A rehearsal is set for Monday morning to finalize preparations.\n"
          ]
        }
      ]
    },
    {
      "cell_type": "code",
      "source": [
        "random_paragraph = \"\"\"\n",
        "Yesterday, the local library hosted a community event to promote literacy among children and teenagers.\n",
        "Volunteers read aloud from popular books, while other activities included storytelling workshops,\n",
        "a book swap, and a small art corner where participants could draw their favorite scenes.\n",
        "The organizers reported a higher turnout than expected, with over 150 attendees enjoying the day.\n",
        "Many parents expressed appreciation for events like this, saying they encourage their children\n",
        "to read more and explore different genres.\n",
        "\"\"\"\n",
        "summary = summarize_text(random_paragraph)\n",
        "print(summary)\n"
      ],
      "metadata": {
        "colab": {
          "base_uri": "https://localhost:8080/"
        },
        "id": "VjL-8UEBHeOu",
        "outputId": "110d7698-af3c-417a-d0bb-00f459aa67ef"
      },
      "execution_count": null,
      "outputs": [
        {
          "output_type": "stream",
          "name": "stdout",
          "text": [
            "- The local library held a successful community event focused on promoting literacy among children and teenagers, attracting over 150 attendees.  \n",
            "- Activities included read-aloud sessions, storytelling workshops, a book swap, and an art corner for drawing favorite scenes.  \n",
            "- Parents appreciated the event, highlighting its positive impact on encouraging reading and exploration of different genres among their children.\n"
          ]
        }
      ]
    },
    {
      "cell_type": "code",
      "source": [
        "print(summarize_text(\"A recent study on urban gardening revealed that community gardens improve both mental health and social connections among residents. Participants reported lower stress levels and a greater sense of belonging when they spent time tending to plants alongside neighbors. The study also noted an increase in locally grown produce, which contributed to healthier eating habits. City officials are considering expanding the program to include more neighborhoods next year.\"))"
      ],
      "metadata": {
        "colab": {
          "base_uri": "https://localhost:8080/"
        },
        "id": "yvjZcsvJMpyU",
        "outputId": "9d13d652-dd1c-4b37-a6ed-8b2a330b5c81"
      },
      "execution_count": null,
      "outputs": [
        {
          "output_type": "stream",
          "name": "stdout",
          "text": [
            "- Recent study on urban gardening shows positive effects on mental health and social connections.\n",
            "- Community gardens lead to lower stress levels among participants.\n",
            "- Residents reported a greater sense of belonging while gardening with neighbors.\n",
            "- Increase in locally grown produce linked to healthier eating habits.\n",
            "- City officials are planning to expand the program to more neighborhoods next year.\n"
          ]
        }
      ]
    }
  ]
}